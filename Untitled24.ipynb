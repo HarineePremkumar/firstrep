{
  "nbformat": 4,
  "nbformat_minor": 0,
  "metadata": {
    "colab": {
      "provenance": [],
      "authorship_tag": "ABX9TyM8jF2rh8WAYZCnoBAux1Qw",
      "include_colab_link": true
    },
    "kernelspec": {
      "name": "python3",
      "display_name": "Python 3"
    },
    "language_info": {
      "name": "python"
    }
  },
  "cells": [
    {
      "cell_type": "markdown",
      "metadata": {
        "id": "view-in-github",
        "colab_type": "text"
      },
      "source": [
        "<a href=\"https://colab.research.google.com/github/HarineePremkumar/firstrep/blob/main/Untitled24.ipynb\" target=\"_parent\"><img src=\"https://colab.research.google.com/assets/colab-badge.svg\" alt=\"Open In Colab\"/></a>"
      ]
    },
    {
      "cell_type": "code",
      "execution_count": 1,
      "metadata": {
        "id": "v8SDFCCAR1P0"
      },
      "outputs": [],
      "source": [
        "from nltk.chat.util import Chat, reflections"
      ]
    },
    {
      "cell_type": "code",
      "source": [
        "#Pairs is a list of patterns and responses.\n",
        "pairs = [\n",
        "    [\n",
        "        r\"(.*)my name is (.*)\",\n",
        "        [\"Hello %2, How are you today ?\",]\n",
        "    ],\n",
        "    [\n",
        "        r\"(.*)help(.*) \",\n",
        "        [\"I can help you \",]\n",
        "    ],\n",
        "     [\n",
        "        r\"(.*) your name ?\",\n",
        "        [\"My name is thecleverprogrammer, but you can just call me robot and I'm a chatbot .\",]\n",
        "    ],\n",
        "    # Flatten the nested lists below\n",
        "    [r\"(.*)time(.*)\", [\"The current time is %H:%M %p\"]],  # Replace %H:%M with actual time formatting\n",
        "    [r\"(.*)date(.*)\", [\"Today is %B %d, %Y\"]],  # Replace with actual date formatting\n",
        "    [r\"(.*)weather(.*)\", [\"The weather is currently pleasant. Would you like a forecast?\"]],\n",
        "    [r\"(.*)how old are you(.*)\", [\"I don't have an age, but I was created in 2023\"]],\n",
        "    [r\"(.*)favorite color(.*)\", [\"I don't have personal preferences, but blue is a popular choice\"]],\n",
        "    [r\"(.*)joke(.*)\", [\"Sure, here's a joke: Why did the scarecrow win an award? Because he was outstanding in his field!\"]],\n",
        "    [r\"(.*)tell me a story(.*)\", [\"Once upon a time...\"]],  # Replace with a short story\n",
        "\n",
        "    [r\"(.*)how are you feeling(.*)\", [\"I'm feeling good, thanks for asking! How about you?\"]],\n",
        "    [r\"(.*)what are you doing(.*)\", [\"I'm processing information and responding to your queries\"]],\n",
        "    [r\"(.*)can you help me with (.*)\", [\"I'd be happy to help! How can I assist you?\"]],\n",
        "    [r\"(.*)thank you(.*)\", [\"You're welcome! How can I help you further?\"]],\n",
        "    [r\"(.*)sorry(.*)\", [\"No worries, it happens!\"]],\n",
        "\n",
        "    [r\"(.*)movie(.*)\", [\"I enjoy sci-fi movies. What's your favorite genre?\"]],\n",
        "    [r\"(.*)music(.*)\", [\"I like listening to classical music. What about you?\"]],\n",
        "    [r\"(.*)food(.*)\", [\"I can't eat, but I hear pizza is delicious!\"]],\n",
        "    [r\"(.*)books(.*)\", [\"I've read many digital books. Do you have a favorite author?\"]],\n",
        "    [r\"(.*)travel(.*)\", [\"I'd love to travel the world someday! Where would you like to go?\"]],\n",
        "\n",
        "    [r\"(.*)how about you(.*)\", [\"Me? Well, as an AI, I don't have personal experiences, but...\"]],\n",
        "    [r\"(.*)interesting(.*)\", [\"That's interesting! Tell me more.\"]],\n",
        "    [r\"(.*)why(.*)\", [\"That's a good question. Let's explore it together.\"]],\n",
        "    [r\"(.*)\\?(.*)\", [\"I'm not sure about that, but we can try to find out together.\"]],  # For any question\n",
        "\n",
        "    [\n",
        "        r\"how are you (.*) ?\",\n",
        "        [\"I'm doing very well\", \"i am great !\"]\n",
        "    ],\n",
        "    [\n",
        "        r\"sorry (.*)\",\n",
        "        [\"Its alright\",\"Its OK, never mind that\",]\n",
        "    ],\n",
        "    [\n",
        "        r\"i'm (.*) (good|well|okay|ok)\",\n",
        "        [\"Nice to hear that\",\"Alright, great !\",]\n",
        "    ],\n",
        "    [\n",
        "        r\"(hi|hey|hello|hola|holla)(.*)\",\n",
        "        [\"Hello\", \"Hey there\",]\n",
        "    ],\n",
        "    [\n",
        "        r\"what (.*) want ?\",\n",
        "        [\"Make me an offer I can't refuse\",]\n",
        "\n",
        "    ],\n",
        "    [\n",
        "        r\"(.*)created(.*)\",\n",
        "        [\"Aman Kharwal created me using Python's NLTK library \",\"top secret ;)\",]\n",
        "    ],\n",
        "\n",
        "    [\n",
        "        r\"(.*) (location|city) ?\",\n",
        "        ['New Delhi, India',]\n",
        "    ],\n",
        "    [\n",
        "        r\"(.*)raining in (.*)\",\n",
        "        [\"No rain in the past 4 days here in %2\",\"In %2 there is a 50% chance of rain\",]\n",
        "    ],\n",
        "    [\n",
        "        r\"how (.*) health (.*)\",\n",
        "        [\"Health is very important, but I am a computer, so I don't need to worry about my health \",]\n",
        "    ],\n",
        "    [\n",
        "        r\"(.*)(sports|game|sport)(.*)\",\n",
        "        [\"I'm a very big fan of Cricket\",]\n",
        "    ],\n",
        "    [\n",
        "        r\"who (.*) (Cricketer|Batsman)?\",\n",
        "        [\"Virat Kohli\"]\n",
        "    ],\n",
        "    [\n",
        "        r\"quit\",\n",
        "        [\"Bye for now. See you soon :) \",\"It was nice talking to you. See you soon :)\"]\n",
        "    ],\n",
        "    [\n",
        "        r\"(.*)\",\n",
        "        ['That is nice to hear']\n",
        "    ],\n",
        "]"
      ],
      "metadata": {
        "id": "EuIJ1dMaR-n8"
      },
      "execution_count": 10,
      "outputs": []
    },
    {
      "cell_type": "code",
      "source": [
        "my_dummy_reflections= {\n",
        "    \"go\"     : \"gone\",\n",
        "    \"hello\"    : \"hey there\"\n",
        "}"
      ],
      "metadata": {
        "id": "xs2d7lPOSIbZ"
      },
      "execution_count": 11,
      "outputs": []
    },
    {
      "cell_type": "code",
      "source": [
        "#default message at the start of chat\n",
        "print(\"Hi, I'm thecleverprogrammer and I like to chat\\nPlease type lowercase English language to start a conversation. Type quit to leave \")\n",
        "#Create Chat Bot\n",
        "chat = Chat(pairs, reflections)"
      ],
      "metadata": {
        "colab": {
          "base_uri": "https://localhost:8080/"
        },
        "id": "TL2nXmv4SPUb",
        "outputId": "0ca6807b-1a7b-4551-e8f7-62ad34fc23ba"
      },
      "execution_count": 12,
      "outputs": [
        {
          "output_type": "stream",
          "name": "stdout",
          "text": [
            "Hi, I'm thecleverprogrammer and I like to chat\n",
            "Please type lowercase English language to start a conversation. Type quit to leave \n"
          ]
        }
      ]
    },
    {
      "cell_type": "code",
      "source": [
        "#Start conversationh\n",
        "chat.converse()"
      ],
      "metadata": {
        "colab": {
          "base_uri": "https://localhost:8080/"
        },
        "id": "6JLKqiflSWvc",
        "outputId": "43f4db8a-d844-4ce0-ba84-0cfe6246330a"
      },
      "execution_count": 13,
      "outputs": [
        {
          "output_type": "stream",
          "name": "stdout",
          "text": [
            ">what is the weather today\n",
            "The weather is currently pleasant. Would you like a forecast?\n",
            ">yes\n",
            "That is nice to hear\n",
            ">how are you\n",
            "That is nice to hear\n",
            ">who created you\n",
            "top secret ;)\n",
            ">can you tell me a story\n",
            "Once upon a time...\n",
            ">tell me a joke\n",
            "Sure, here's a joke: Why did the scarecrow win an award? Because he was outstanding in his field!\n",
            ">that was funny\n",
            "That is nice to hear\n",
            ">okay bye\n",
            "That is nice to hear\n",
            ">i will see you soon\n",
            "That is nice to hear\n",
            ">quit\n",
            "It was nice talking to you. See you soon :)\n"
          ]
        }
      ]
    }
  ]
}